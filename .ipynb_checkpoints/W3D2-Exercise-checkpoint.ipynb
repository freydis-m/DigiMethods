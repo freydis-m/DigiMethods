{
 "cells": [
  {
   "cell_type": "markdown",
   "metadata": {},
   "source": [
    "# Exercise 4: APIs and Functions II \n",
    "\n",
    "## 4.1 Using the Twitter API to collect data"
   ]
  },
  {
   "cell_type": "code",
   "execution_count": 1,
   "metadata": {},
   "outputs": [
    {
     "name": "stdout",
     "output_type": "stream",
     "text": [
      "Collecting package metadata (current_repodata.json): done\n",
      "Solving environment: done\n",
      "\n",
      "# All requested packages already installed.\n",
      "\n"
     ]
    }
   ],
   "source": [
    "import sys\n",
    "! conda install --yes --prefix {sys.prefix} -c conda-forge tweepy"
   ]
  },
  {
   "cell_type": "code",
   "execution_count": 2,
   "metadata": {},
   "outputs": [
    {
     "name": "stdout",
     "output_type": "stream",
     "text": [
      "3.8.0\n"
     ]
    }
   ],
   "source": [
    "import tweepy\n",
    "print(tweepy.__version__)\n",
    "\n",
    "from AppCred import CONSUMER_KEY, CONSUMER_SECRET\n",
    "from AppCred import ACCESS_TOKEN, ACCESS_TOKEN_SECRET\n",
    "\n",
    "auth = tweepy.OAuthHandler(CONSUMER_KEY, CONSUMER_SECRET)\n",
    "\n",
    "auth.set_access_token(ACCESS_TOKEN, ACCESS_TOKEN_SECRET)\n",
    "\n",
    "api = tweepy.API(auth)"
   ]
  },
  {
   "cell_type": "markdown",
   "metadata": {},
   "source": [
    "**4.1.1** Find the Twitter account of the University of Copenhagen's Faculty of Social Science _by hand_ and get their Twitter account information using `tweepy` functionality. Remember that you just started a new Jupyter Notebook, so you will have to load the necessary modules and set up your authentication with the Twitter API. "
   ]
  },
  {
   "cell_type": "code",
   "execution_count": 5,
   "metadata": {},
   "outputs": [],
   "source": [
    "UCPHsocsci = api.get_user(\"KuSamf\")"
   ]
  },
  {
   "cell_type": "markdown",
   "metadata": {},
   "source": [
    "**4.1.2** When was this account created? Try to use the `str` and `print` commands to respond with a complete sentence."
   ]
  },
  {
   "cell_type": "code",
   "execution_count": 9,
   "metadata": {},
   "outputs": [
    {
     "data": {
      "text/plain": [
       "datetime.datetime(2015, 12, 16, 10, 21, 24)"
      ]
     },
     "execution_count": 9,
     "metadata": {},
     "output_type": "execute_result"
    }
   ],
   "source": [
    "# print(UCPHsocsci) from this command i know it's created dec 16 at 10:21:24, meaning the result is formated \n",
    "# \"YEAR, MONTH, DATE, TIME\"\n",
    "UCPHsocsci.created_at"
   ]
  },
  {
   "cell_type": "markdown",
   "metadata": {},
   "source": [
    "**4.1.3** Can you find out 1) where this account is located, 2) how many people are following the account, and 3) how many accounts the account is following?"
   ]
  },
  {
   "cell_type": "code",
   "execution_count": 12,
   "metadata": {},
   "outputs": [
    {
     "name": "stdout",
     "output_type": "stream",
     "text": [
      "Hovedstaden, Danmark\n",
      "990\n",
      "239\n"
     ]
    }
   ],
   "source": [
    "#print(UCPHsocsci)\n",
    "\n",
    "print(UCPHsocsci.location)\n",
    "print(UCPHsocsci.followers_count)\n",
    "print(UCPHsocsci.friends_count)"
   ]
  },
  {
   "cell_type": "markdown",
   "metadata": {},
   "source": [
    "**4.1.4** Next, get the timeline for this user \"mfroman\". What happens? Can you explain why?"
   ]
  },
  {
   "cell_type": "code",
   "execution_count": 15,
   "metadata": {},
   "outputs": [],
   "source": [
    "#mfromantl = api.user_timeline(\"mfroman\")\n",
    "#the user is private, so we can't access the tweets? "
   ]
  },
  {
   "cell_type": "markdown",
   "metadata": {},
   "source": [
    "**4.1.5** Now, get the timeline for our example account \"vicariousveblen\". Some of the tweets were posted automatically, i.e. using a Python script. Can you tell from the metadata which? How?"
   ]
  },
  {
   "cell_type": "code",
   "execution_count": 18,
   "metadata": {},
   "outputs": [],
   "source": [
    "tl_vicariousveblen = api.user_timeline(\"vicariousveblen\")\n"
   ]
  },
  {
   "cell_type": "markdown",
   "metadata": {},
   "source": [
    "## 4.2 Writing and using our own functions to process the Twitter data"
   ]
  },
  {
   "cell_type": "markdown",
   "metadata": {},
   "source": [
    "**4.2.1** Collect the timeline for this account \"CPH_SODAS\"."
   ]
  },
  {
   "cell_type": "code",
   "execution_count": 19,
   "metadata": {},
   "outputs": [],
   "source": [
    "tl_cphsodas = api.user_timeline(\"CPH_SODAS\")"
   ]
  },
  {
   "cell_type": "markdown",
   "metadata": {},
   "source": [
    "**4.2.2** Write a function that you can use to summarize the tweets in the timeline–feel free to look at the code examples we used earlier today."
   ]
  },
  {
   "cell_type": "code",
   "execution_count": 35,
   "metadata": {
    "scrolled": true
   },
   "outputs": [
    {
     "name": "stdout",
     "output_type": "stream",
     "text": [
      "['What mechanisms shape the inequalities through which people influence the opinion of others on matters of taste? \\nJ… https://t.co/uE9OgPujF5', 'Morten Axel Pedersen, @RebAdlerNissen &amp; @fmerhout have been awarded an UCPH Data+ grant! The project revolves aroun… https://t.co/5Emhm5xdNx', \"Don't miss out on the first Data Discussion of the Spring Series where @RebAdlerNissen, Kristin Anabel &amp; Kelton Ray… https://t.co/KaoRrJUG0e\", 'For this SODAS spring lecture series we have invited a series of speakers to address various aspects of mixing meth… https://t.co/b54dD3HmjC', \"RT @Carlsbergfondet: 📲'Politikere forhandler både back stage i forhandlingsrummet og front stage foran hele verdens befolkning på de social…\", 'This Monday @daviddlassen, Morten Axel Pedersen and Helene Willadsen visited Peter Halkier Nicolajsen and colleague… https://t.co/62KsL3j8cY', 'RT @andbjn: Passionate about combining social science with new data science tools? Join us in our new MSc program @CPH_SODAS.  The MSc prog…', 'RT @andbjn: (1/7) Can redrawing attendance boundaries decrease school #segregation? Say you want to transfer kids from a well-off neighborh…', 'PhD fellow @Golovchenko_Yev has been commenting widely on the developments surrounding the Chinese reactions to the… https://t.co/XvslIriVf4', 'Check out this Nature News piece dealing with how bots affect social media research. Prof. @suneman talks about the… https://t.co/Arg6Mbg8ms', 'RT @distractdenmark: Phillip Brooker commenting on first day’s presentations at workshop on #machineanthropology https://t.co/hi2vClmf3e', 'RT @distractdenmark: #machineanthropology Anna Sapienza and Sune Lehmann on mobil use @suneman https://t.co/YvqlQOqFsR', 'RT @distractdenmark: A Thick Machine for predicting emojis, pres by @AndersKMunk and colleagues. #machineanthropology https://t.co/72RDrSqX…', 'RT @distractdenmark: Rebecca Adler-Nissen on how to study diplomats and social media using computational methods. #machineanthropology @DIP…', 'RT @distractdenmark: What might Machine Anthropology be? DISTRACT will host workshop on this very question for next two days in Copenhagen.…', \"RT @TANTlab: Testing our #thickmachine before the #machineanthropology workshop @CPH_SODAS Monday. Turns out that thing is just as 'thick'…\", \"In the second episode of @It_vest's series @daviddlassen &amp; Morten Axel Pedersen talk about their perspectives on co… https://t.co/VE1Q1BQsrW\", 'Join @suneman and Vincent Hendricks for an interesting talk on how AI, Social Networks and Information Bubbles are… https://t.co/2FGpnRtu6Y', 'In December scientist from @CPH_SODAS co-organized and participated in a joint workshop centered around the questio… https://t.co/EKO5wosjo1', 'Why do some people spread misinformation? Who does it? And is it even a problem? Hear professor @RebAdlerNissen ans… https://t.co/UWN9LsZccd']\n"
     ]
    }
   ],
   "source": [
    "#defining a function to find the texts of tweets on a timeline list\n",
    "def findtweets (timeline):\n",
    "    #defining the list I want the function to return\n",
    "    tweets = []\n",
    "    \n",
    "    for element in timeline: \n",
    "        #searches through each tweet and finds the texts, then puts them into the tweet list\n",
    "        x = element.text\n",
    "        tweets.append(x)\n",
    "        \n",
    "    return tweets\n",
    "    \n",
    "  \n",
    "tweets_cphsodas = findtweets(tl_cphsodas)\n",
    "print(tweets_cphsodas)\n"
   ]
  },
  {
   "cell_type": "code",
   "execution_count": 54,
   "metadata": {},
   "outputs": [
    {
     "name": "stdout",
     "output_type": "stream",
     "text": [
      "{'What': 2, 'mechanisms': 1, 'shape': 1, 'the': 9, 'inequalities': 1, 'through': 1, 'which': 1, 'people': 2, 'influence': 1, 'opinion': 1, 'of': 6, 'others': 1, 'on': 10, 'matters': 1, 'taste?': 1, 'J…': 1, 'https://t.co/uE9OgPujF5': 1, 'Morten': 3, 'Axel': 3, 'Pedersen,': 1, '@RebAdlerNissen': 2, '&amp;': 3, '@fmerhout': 1, 'have': 2, 'been': 2, 'awarded': 1, 'an': 2, 'UCPH': 1, 'Data+': 1, 'grant!': 1, 'The': 2, 'project': 1, 'revolves': 1, 'aroun…': 1, 'https://t.co/5Emhm5xdNx': 1, \"Don't\": 1, 'miss': 1, 'out': 3, 'first': 2, 'Data': 1, 'Discussion': 1, 'Spring': 1, 'Series': 1, 'where': 1, '@RebAdlerNissen,': 1, 'Kristin': 1, 'Anabel': 1, 'Kelton': 1, 'Ray…': 1, 'https://t.co/KaoRrJUG0e': 1, 'For': 1, 'this': 3, 'SODAS': 1, 'spring': 1, 'lecture': 1, 'series': 3, 'we': 1, 'invited': 1, 'a': 4, 'speakers': 1, 'to': 4, 'address': 1, 'various': 1, 'aspects': 1, 'mixing': 1, 'meth…': 1, 'https://t.co/b54dD3HmjC': 1, 'RT': 9, '@Carlsbergfondet:': 1, \"📲'Politikere\": 1, 'forhandler': 1, 'både': 1, 'back': 1, 'stage': 2, 'i': 1, 'forhandlingsrummet': 1, 'og': 1, 'front': 1, 'foran': 1, 'hele': 1, 'verdens': 1, 'befolkning': 1, 'på': 1, 'de': 1, 'social…': 1, 'This': 1, 'Monday': 1, '@daviddlassen,': 1, 'Pedersen': 2, 'and': 8, 'Helene': 1, 'Willadsen': 1, 'visited': 1, 'Peter': 1, 'Halkier': 1, 'Nicolajsen': 1, 'colleague…': 1, 'https://t.co/62KsL3j8cY': 1, '@andbjn:': 2, 'Passionate': 1, 'about': 3, 'combining': 1, 'social': 3, 'science': 2, 'with': 2, 'new': 2, 'data': 1, 'tools?': 1, 'Join': 2, 'us': 1, 'in': 3, 'our': 2, 'MSc': 2, 'program': 1, '@CPH_SODAS.': 1, 'prog…': 1, '(1/7)': 1, 'Can': 1, 'redrawing': 1, 'attendance': 1, 'boundaries': 1, 'decrease': 1, 'school': 1, '#segregation?': 1, 'Say': 1, 'you': 1, 'want': 1, 'transfer': 1, 'kids': 1, 'from': 2, 'well-off': 1, 'neighborh…': 1, 'PhD': 1, 'fellow': 1, '@Golovchenko_Yev': 1, 'has': 1, 'commenting': 2, 'widely': 1, 'developments': 1, 'surrounding': 1, 'Chinese': 1, 'reactions': 1, 'the…': 2, 'https://t.co/XvslIriVf4': 1, 'Check': 1, 'Nature': 1, 'News': 1, 'piece': 1, 'dealing': 1, 'how': 3, 'bots': 1, 'affect': 1, 'media': 2, 'research.': 1, 'Prof.': 1, '@suneman': 3, 'talks': 1, 'https://t.co/Arg6Mbg8ms': 1, '@distractdenmark:': 5, 'Phillip': 1, 'Brooker': 1, 'day’s': 1, 'presentations': 1, 'at': 1, 'workshop': 4, '#machineanthropology': 5, 'https://t.co/hi2vClmf3e': 1, 'Anna': 1, 'Sapienza': 1, 'Sune': 1, 'Lehmann': 1, 'mobil': 1, 'use': 1, 'https://t.co/YvqlQOqFsR': 1, 'A': 1, 'Thick': 1, 'Machine': 2, 'for': 3, 'predicting': 1, 'emojis,': 1, 'pres': 1, 'by': 1, '@AndersKMunk': 1, 'colleagues.': 1, 'https://t.co/72RDrSqX…': 1, 'Rebecca': 1, 'Adler-Nissen': 1, 'study': 1, 'diplomats': 1, 'using': 1, 'computational': 1, 'methods.': 1, '@DIP…': 1, 'might': 1, 'Anthropology': 1, 'be?': 1, 'DISTRACT': 1, 'will': 1, 'host': 1, 'very': 1, 'question': 1, 'next': 1, 'two': 1, 'days': 1, 'Copenhagen.…': 1, '@TANTlab:': 1, 'Testing': 1, '#thickmachine': 1, 'before': 1, '@CPH_SODAS': 2, 'Monday.': 1, 'Turns': 1, 'that': 1, 'thing': 1, 'is': 2, 'just': 1, 'as': 1, \"'thick'…\": 1, 'In': 2, 'second': 1, 'episode': 1, \"@It_vest's\": 1, '@daviddlassen': 1, 'talk': 2, 'their': 1, 'perspectives': 1, 'co…': 1, 'https://t.co/VE1Q1BQsrW': 1, 'Vincent': 1, 'Hendricks': 1, 'interesting': 1, 'AI,': 1, 'Social': 1, 'Networks': 1, 'Information': 1, 'Bubbles': 1, 'are…': 1, 'https://t.co/2FGpnRtu6Y': 1, 'December': 1, 'scientist': 1, 'co-organized': 1, 'participated': 1, 'joint': 1, 'centered': 1, 'around': 1, 'questio…': 1, 'https://t.co/EKO5wosjo1': 1, 'Why': 1, 'do': 1, 'some': 1, 'spread': 1, 'misinformation?': 1, 'Who': 1, 'does': 1, 'it?': 1, 'And': 1, 'it': 1, 'even': 1, 'problem?': 1, 'Hear': 1, 'professor': 1, 'ans…': 1, 'https://t.co/UWN9LsZccd': 1}\n"
     ]
    }
   ],
   "source": [
    "#I wanted to play around a little to see if I could get the word count of the tweets too\n",
    "\n",
    "\n",
    "#this function creates a list of words based on a list of tweets (or any list, but this is the intended purpose)\n",
    "def createwordlist (tweetlist):\n",
    "    wordlist = []\n",
    "    for element in tweetlist:\n",
    "        #here is split each tweet (element) into words\n",
    "        wordlist.append(element.split())\n",
    "        \n",
    "    return wordlist\n",
    "\n",
    "wordlist_cphsodas = createwordlist(tweets_cphsodas)\n",
    "\n",
    "\n",
    "#i found that the function createwordlist made a nested list of words, which made the word count difficult\n",
    "#to solve this, the below function creates a \"flat list\"\n",
    "def flatlist(list):\n",
    "    flatlist = []\n",
    "    #I learned that it's possible to make a double for-loop through google, it takes each word of each sublist and\n",
    "    #returns it to the flatlist.\n",
    "    for sublist in list:\n",
    "        for element in sublist: \n",
    "            flatlist.append(element)\n",
    "\n",
    "            \n",
    "    return flatlist\n",
    "\n",
    "\n",
    "flatwordlist_cphsodas = flatlist(wordlist_cphsodas)\n",
    "\n",
    "\n",
    "#now i can count the words using the function we learned in class: \n",
    "def wc (list):\n",
    "    wc = {}\n",
    "    \n",
    "    for word in list:\n",
    "        if word not in wc:\n",
    "            wc[word] = list.count(word)\n",
    "            \n",
    "    return wc\n",
    "\n",
    "wc_cphsodas = wc(flatwordlist_cphsodas)\n",
    "print(wc_cphsodas)\n",
    "\n",
    "#for some reason the sort() function didn't work for me, but I didn't feel like solving it now, so the list is \n",
    "#unsorted"
   ]
  },
  {
   "cell_type": "markdown",
   "metadata": {},
   "source": [
    "**4.2.3** Apply the function to the timeline data you collected. Without looking it up, what would you say this account tweets about?"
   ]
  },
  {
   "cell_type": "code",
   "execution_count": null,
   "metadata": {},
   "outputs": [],
   "source": [
    "#use of digital data in social sciences (e.g. \"machineanthropology\")"
   ]
  },
  {
   "cell_type": "markdown",
   "metadata": {},
   "source": [
    "## 4.3 Follow Your Interests"
   ]
  },
  {
   "cell_type": "markdown",
   "metadata": {},
   "source": [
    "**4.3.1** Identify three Twitter accounts _or_ key words of interest to you. Use the functionality we learned today to look at their history of the accounts, who tweets about your keywords, what do your accounts tweet about etc."
   ]
  }
 ],
 "metadata": {
  "kernelspec": {
   "display_name": "Python 3",
   "language": "python",
   "name": "python3"
  },
  "language_info": {
   "codemirror_mode": {
    "name": "ipython",
    "version": 3
   },
   "file_extension": ".py",
   "mimetype": "text/x-python",
   "name": "python",
   "nbconvert_exporter": "python",
   "pygments_lexer": "ipython3",
   "version": "3.7.4"
  }
 },
 "nbformat": 4,
 "nbformat_minor": 2
}

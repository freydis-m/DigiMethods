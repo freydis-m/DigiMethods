{
 "cells": [
  {
   "cell_type": "markdown",
   "metadata": {},
   "source": [
    "# Exercise W7D1: Review and Putting it All Together\n",
    "\n",
    "This exercise aims to draw together the topics we have covered in the _Base Camp_ portion of the Digital Methods class. At the end of the exercise, you should have a `DataFrame` with each row containing information on a Twitter account including their tweets, friends, followers, hashtags and mentions as well as some descriptive statistics.\n",
    "\n",
    "You will be able to reuse and modify this code for the second half of digital methods to download and analyze tweets for your projects. So, this exercise should provide you with a solid review of different things we have learned and help you for the the rest of the course."
   ]
  },
  {
   "cell_type": "code",
   "execution_count": 1,
   "metadata": {},
   "outputs": [
    {
     "name": "stdout",
     "output_type": "stream",
     "text": [
      "3.8.0\n"
     ]
    }
   ],
   "source": [
    "import tweepy\n",
    "print(tweepy.__version__)\n",
    "\n",
    "from AppCred import CONSUMER_KEY, CONSUMER_SECRET\n",
    "from AppCred import ACCESS_TOKEN, ACCESS_TOKEN_SECRET\n",
    "\n",
    "auth = tweepy.OAuthHandler(CONSUMER_KEY, CONSUMER_SECRET)\n",
    "\n",
    "auth.set_access_token(ACCESS_TOKEN, ACCESS_TOKEN_SECRET)\n",
    "\n",
    "api = tweepy.API(auth)"
   ]
  },
  {
   "cell_type": "markdown",
   "metadata": {},
   "source": [
    "**Exercise 1. Identify a topic, authenticate, and get data.** First, identify a topic of interest to you and think about a keyword or hashtag capturing the topic. Possible topics could be Corona or Climate, but you are welcome to choose something else. Then load the `tweepy` module and use the built-in functionality to `search` Twitter for your keyword or hashtag. Create a variable that contains the data returned by your search.\n",
    "\n",
    "See [here](http://docs.tweepy.org/en/latest/api.html#help-methods) for more information about the `search` method."
   ]
  },
  {
   "cell_type": "code",
   "execution_count": 2,
   "metadata": {},
   "outputs": [],
   "source": [
    "demdeb_tweets = api.search(q = \"DemDebate\", since=\"2020-03-15\")\n",
    "\n"
   ]
  },
  {
   "cell_type": "code",
   "execution_count": null,
   "metadata": {},
   "outputs": [],
   "source": []
  },
  {
   "cell_type": "markdown",
   "metadata": {},
   "source": [
    "Now we have an object containing a number of tweets pertaining to our topic of interest. As you might remember, by default the Twitter API returns the data to us in JSON format. Now that we know about the elegance and beauty of `DataFrames`, we would prefer to work with that format of data rather than a dictionary-style JSON. "
   ]
  },
  {
   "cell_type": "markdown",
   "metadata": {},
   "source": [
    "**Exercise 2. Turn raw API data into a DataFrame.** Your search returned a set of tweets about your chosen topic. Construct a `DataFrame` from your Twitter search object of the people who are tweeting about that topic that, at minimum, contains the unique `screen_names`, `followers_count`, `friends_count`, and `statuses_count` returned from your search. \n",
    "\n",
    "There are a number of ways to do this so you might want to review how to construct `DataFrames` (W6D1-Demo). You may also want to review navigating JSON objects (W4D2-Exercise_solutions). Also, your returned data might include the same account multiple times, so you will want to make sure that you are listing the account only once in your `DataFrame`."
   ]
  },
  {
   "cell_type": "code",
   "execution_count": 3,
   "metadata": {},
   "outputs": [],
   "source": [
    "usernames = []\n",
    "tweet_text = []\n",
    "truncated =[]\n",
    "post_date =[]\n",
    "followers=[]\n",
    "\n",
    "for tweet in demdeb_tweets:\n",
    "    username = tweet._json[\"user\"][\"screen_name\"]\n",
    "    usernames.append(username)\n",
    "    \n",
    "    text = tweet._json[\"text\"]\n",
    "    tweet_text.append(text)\n",
    "    \n",
    "    trunc = tweet._json[\"truncated\"]\n",
    "    truncated.append(trunc)\n",
    "\n",
    "    posted_on = tweet._json[\"created_at\"]\n",
    "    post_date.append(posted_on)\n",
    "\n",
    "    \n",
    "    followercount = tweet._json[\"user\"][\"followers_count\"]\n",
    "    followers.append(followercount)\n",
    "    \n",
    "\n",
    "demdeb_mar15 = {\"username\": usernames,\n",
    "               \"text\": tweet_text,\n",
    "               \"truncated?\": truncated,\n",
    "               \"date posted\": post_date,\n",
    "               \"follower count\": followers}\n"
   ]
  },
  {
   "cell_type": "code",
   "execution_count": 4,
   "metadata": {},
   "outputs": [
    {
     "data": {
      "text/html": [
       "<div>\n",
       "<style scoped>\n",
       "    .dataframe tbody tr th:only-of-type {\n",
       "        vertical-align: middle;\n",
       "    }\n",
       "\n",
       "    .dataframe tbody tr th {\n",
       "        vertical-align: top;\n",
       "    }\n",
       "\n",
       "    .dataframe thead th {\n",
       "        text-align: right;\n",
       "    }\n",
       "</style>\n",
       "<table border=\"1\" class=\"dataframe\">\n",
       "  <thead>\n",
       "    <tr style=\"text-align: right;\">\n",
       "      <th></th>\n",
       "      <th>username</th>\n",
       "      <th>text</th>\n",
       "      <th>truncated?</th>\n",
       "      <th>date posted</th>\n",
       "      <th>follower count</th>\n",
       "    </tr>\n",
       "  </thead>\n",
       "  <tbody>\n",
       "    <tr>\n",
       "      <td>0</td>\n",
       "      <td>sweetiepiemommy</td>\n",
       "      <td>RT @therealjohnmayo: Bernie, we end ice raids....</td>\n",
       "      <td>False</td>\n",
       "      <td>Wed Mar 18 13:48:38 +0000 2020</td>\n",
       "      <td>2349</td>\n",
       "    </tr>\n",
       "    <tr>\n",
       "      <td>1</td>\n",
       "      <td>CherKalleck</td>\n",
       "      <td>RT @robsfriedlander: .@JoeBiden helped lead th...</td>\n",
       "      <td>False</td>\n",
       "      <td>Wed Mar 18 13:48:36 +0000 2020</td>\n",
       "      <td>12260</td>\n",
       "    </tr>\n",
       "    <tr>\n",
       "      <td>2</td>\n",
       "      <td>TNLM1821</td>\n",
       "      <td>RT @PsycTea: On the topic of Bernie &amp;amp; comm...</td>\n",
       "      <td>False</td>\n",
       "      <td>Wed Mar 18 13:48:17 +0000 2020</td>\n",
       "      <td>742</td>\n",
       "    </tr>\n",
       "    <tr>\n",
       "      <td>3</td>\n",
       "      <td>cb4195</td>\n",
       "      <td>RT @GOPChairwoman: Reminder: While @realDonald...</td>\n",
       "      <td>False</td>\n",
       "      <td>Wed Mar 18 13:48:07 +0000 2020</td>\n",
       "      <td>193</td>\n",
       "    </tr>\n",
       "    <tr>\n",
       "      <td>4</td>\n",
       "      <td>NickGuthman</td>\n",
       "      <td>RT @LeslieMarshall: New @Spreaker Podcast (3/1...</td>\n",
       "      <td>False</td>\n",
       "      <td>Wed Mar 18 13:48:06 +0000 2020</td>\n",
       "      <td>2202</td>\n",
       "    </tr>\n",
       "    <tr>\n",
       "      <td>5</td>\n",
       "      <td>Isabel02297938</td>\n",
       "      <td>RT @BernieSanders: On day one we'll restore th...</td>\n",
       "      <td>False</td>\n",
       "      <td>Wed Mar 18 13:46:21 +0000 2020</td>\n",
       "      <td>0</td>\n",
       "    </tr>\n",
       "    <tr>\n",
       "      <td>6</td>\n",
       "      <td>kachninja</td>\n",
       "      <td>RT @CalebJHull: THIS IS INSANE:\\n\\nModerator a...</td>\n",
       "      <td>False</td>\n",
       "      <td>Wed Mar 18 13:45:53 +0000 2020</td>\n",
       "      <td>12485</td>\n",
       "    </tr>\n",
       "    <tr>\n",
       "      <td>7</td>\n",
       "      <td>DNApparition</td>\n",
       "      <td>RT @RBReich: I'm sick and tired of hearing tha...</td>\n",
       "      <td>False</td>\n",
       "      <td>Wed Mar 18 13:45:34 +0000 2020</td>\n",
       "      <td>104</td>\n",
       "    </tr>\n",
       "    <tr>\n",
       "      <td>8</td>\n",
       "      <td>Howscib</td>\n",
       "      <td>RT @ThomasGaston: Biden's response of \"no\" had...</td>\n",
       "      <td>False</td>\n",
       "      <td>Wed Mar 18 13:44:43 +0000 2020</td>\n",
       "      <td>29</td>\n",
       "    </tr>\n",
       "    <tr>\n",
       "      <td>9</td>\n",
       "      <td>_ZayBanks</td>\n",
       "      <td>RT @PsycTea: On the topic of Bernie &amp;amp; comm...</td>\n",
       "      <td>False</td>\n",
       "      <td>Wed Mar 18 13:44:32 +0000 2020</td>\n",
       "      <td>462</td>\n",
       "    </tr>\n",
       "    <tr>\n",
       "      <td>10</td>\n",
       "      <td>newhandle14</td>\n",
       "      <td>RT @chrissyomari: I just started watching thr ...</td>\n",
       "      <td>False</td>\n",
       "      <td>Wed Mar 18 13:43:36 +0000 2020</td>\n",
       "      <td>12</td>\n",
       "    </tr>\n",
       "    <tr>\n",
       "      <td>11</td>\n",
       "      <td>azadeh_rohani</td>\n",
       "      <td>RT @BernieSanders: I voted against the Defense...</td>\n",
       "      <td>False</td>\n",
       "      <td>Wed Mar 18 13:42:26 +0000 2020</td>\n",
       "      <td>9</td>\n",
       "    </tr>\n",
       "    <tr>\n",
       "      <td>12</td>\n",
       "      <td>brendakflower</td>\n",
       "      <td>RT @GOPChairwoman: During the #DemDebate, Joe ...</td>\n",
       "      <td>False</td>\n",
       "      <td>Wed Mar 18 13:42:03 +0000 2020</td>\n",
       "      <td>926</td>\n",
       "    </tr>\n",
       "    <tr>\n",
       "      <td>13</td>\n",
       "      <td>The_Asia_Phile</td>\n",
       "      <td>Like him or Hate him, 1 thing should be SUPER ...</td>\n",
       "      <td>True</td>\n",
       "      <td>Wed Mar 18 13:42:00 +0000 2020</td>\n",
       "      <td>377</td>\n",
       "    </tr>\n",
       "    <tr>\n",
       "      <td>14</td>\n",
       "      <td>sondramtodd</td>\n",
       "      <td>RT @GOPChairwoman: During the #DemDebate, Joe ...</td>\n",
       "      <td>False</td>\n",
       "      <td>Wed Mar 18 13:41:23 +0000 2020</td>\n",
       "      <td>264</td>\n",
       "    </tr>\n",
       "  </tbody>\n",
       "</table>\n",
       "</div>"
      ],
      "text/plain": [
       "           username                                               text  \\\n",
       "0   sweetiepiemommy  RT @therealjohnmayo: Bernie, we end ice raids....   \n",
       "1       CherKalleck  RT @robsfriedlander: .@JoeBiden helped lead th...   \n",
       "2          TNLM1821  RT @PsycTea: On the topic of Bernie &amp; comm...   \n",
       "3            cb4195  RT @GOPChairwoman: Reminder: While @realDonald...   \n",
       "4       NickGuthman  RT @LeslieMarshall: New @Spreaker Podcast (3/1...   \n",
       "5    Isabel02297938  RT @BernieSanders: On day one we'll restore th...   \n",
       "6         kachninja  RT @CalebJHull: THIS IS INSANE:\\n\\nModerator a...   \n",
       "7      DNApparition  RT @RBReich: I'm sick and tired of hearing tha...   \n",
       "8           Howscib  RT @ThomasGaston: Biden's response of \"no\" had...   \n",
       "9         _ZayBanks  RT @PsycTea: On the topic of Bernie &amp; comm...   \n",
       "10      newhandle14  RT @chrissyomari: I just started watching thr ...   \n",
       "11    azadeh_rohani  RT @BernieSanders: I voted against the Defense...   \n",
       "12    brendakflower  RT @GOPChairwoman: During the #DemDebate, Joe ...   \n",
       "13   The_Asia_Phile  Like him or Hate him, 1 thing should be SUPER ...   \n",
       "14      sondramtodd  RT @GOPChairwoman: During the #DemDebate, Joe ...   \n",
       "\n",
       "    truncated?                     date posted  follower count  \n",
       "0        False  Wed Mar 18 13:48:38 +0000 2020            2349  \n",
       "1        False  Wed Mar 18 13:48:36 +0000 2020           12260  \n",
       "2        False  Wed Mar 18 13:48:17 +0000 2020             742  \n",
       "3        False  Wed Mar 18 13:48:07 +0000 2020             193  \n",
       "4        False  Wed Mar 18 13:48:06 +0000 2020            2202  \n",
       "5        False  Wed Mar 18 13:46:21 +0000 2020               0  \n",
       "6        False  Wed Mar 18 13:45:53 +0000 2020           12485  \n",
       "7        False  Wed Mar 18 13:45:34 +0000 2020             104  \n",
       "8        False  Wed Mar 18 13:44:43 +0000 2020              29  \n",
       "9        False  Wed Mar 18 13:44:32 +0000 2020             462  \n",
       "10       False  Wed Mar 18 13:43:36 +0000 2020              12  \n",
       "11       False  Wed Mar 18 13:42:26 +0000 2020               9  \n",
       "12       False  Wed Mar 18 13:42:03 +0000 2020             926  \n",
       "13        True  Wed Mar 18 13:42:00 +0000 2020             377  \n",
       "14       False  Wed Mar 18 13:41:23 +0000 2020             264  "
      ]
     },
     "execution_count": 4,
     "metadata": {},
     "output_type": "execute_result"
    }
   ],
   "source": [
    "import pandas as pd\n",
    "\n",
    "demdeb_mar = pd.DataFrame(demdeb_mar15)\n",
    "\n",
    "demdeb_mar"
   ]
  },
  {
   "cell_type": "markdown",
   "metadata": {},
   "source": [
    "With our neat `DataFrame` we can now easily find out details about the data we collected from Twitter."
   ]
  },
  {
   "cell_type": "markdown",
   "metadata": {},
   "source": [
    "**Exercise 3. Get information about our data.** Use the `print` function and string operations to make Python tell you in plain language: a) How many unique accounts there are in your data, b) what the name of the _last_ account in your data is, and c) what the sum of followers is for all accounts in your data. That is make Python print out full sentences with the relevant information."
   ]
  },
  {
   "cell_type": "code",
   "execution_count": 5,
   "metadata": {},
   "outputs": [
    {
     "name": "stdout",
     "output_type": "stream",
     "text": [
      "There are 15 accounts in my dataset. The last account is 15. In total, the accounts have 32414 followers.\n"
     ]
    }
   ],
   "source": [
    "print(\"There are \" + str(demdeb_mar.username.count()) + \n",
    "      \" accounts in my dataset. The last account is \" + str(len(demdeb_mar.username)) + \n",
    "      \". In total, the accounts have \" + str(sum(followers)) + \" followers.\")"
   ]
  },
  {
   "cell_type": "markdown",
   "metadata": {},
   "source": [
    "**Exercise 4. Adding data to our DataFrame.** Loop through the indices of your `DataFrame`, collect the timeline for each account using the `user_timeline` method from tweepy, and store them in a new list \"timelines\". Note that you will want to build in some `sleep` time to avoid running into rate limits. You can find the syntax for how to do this on page 155 and the logic and examples on pages 209-12 in Brooker (2020)."
   ]
  },
  {
   "cell_type": "code",
   "execution_count": 6,
   "metadata": {
    "scrolled": true
   },
   "outputs": [
    {
     "name": "stdout",
     "output_type": "stream",
     "text": [
      "loop\n",
      "loop\n",
      "loop\n",
      "loop\n",
      "loop\n",
      "loop\n",
      "loop\n",
      "loop\n",
      "loop\n",
      "loop\n",
      "loop\n",
      "loop\n",
      "loop\n",
      "loop\n",
      "loop\n"
     ]
    }
   ],
   "source": [
    "import time\n",
    "\n",
    "timelines = []\n",
    "\n",
    "for n in demdeb_mar.index:\n",
    "    a = api.user_timeline(demdeb_mar.username[n])\n",
    "    timelines.append(a)\n",
    "    \n",
    "    time.sleep(5)\n",
    "    print(\"loop\")"
   ]
  },
  {
   "cell_type": "code",
   "execution_count": 20,
   "metadata": {},
   "outputs": [
    {
     "data": {
      "text/plain": [
       "15"
      ]
     },
     "execution_count": 20,
     "metadata": {},
     "output_type": "execute_result"
    }
   ],
   "source": [
    "len(timelines)"
   ]
  },
  {
   "cell_type": "markdown",
   "metadata": {},
   "source": [
    "Add your list \"timelines\" to your current `DataFame`. To do this, we first need to turn our list into a new `DateFrame` with one column labeled `timelines` and then join our two `DateFrames` horizontally, i.e. along `axis = 1`."
   ]
  },
  {
   "cell_type": "code",
   "execution_count": 11,
   "metadata": {},
   "outputs": [],
   "source": [
    "timelines_ = pd.DataFrame({\"timelines\": timelines})\n",
    "demdeb_mar_tl = pd.concat([demdeb_mar, timelines_], axis=1)"
   ]
  },
  {
   "cell_type": "markdown",
   "metadata": {},
   "source": [
    "### Take a deep breath. This was a major piece of coding. "
   ]
  },
  {
   "cell_type": "markdown",
   "metadata": {},
   "source": [
    "Now you have the timeline, that is the statuses, for each of your accounts in the `DataFrame`. But these are still in the raw format which the Twitter API returns, so we need to transform them into a format that allows us to to work with them more easily. In the end, we want to get at the the topics and persons our accounts tweet about."
   ]
  },
  {
   "cell_type": "markdown",
   "metadata": {},
   "source": [
    "**Exercise 5. Getting the tweet texts from the timeline.** Extract the text from the tweets in each account's timeline, combine them into a list, turn the list of lists into a `DataFrame`, and join the new and old `DataFrames`. One way to do this is to 1) create an empty list 'tweets', 2) loop through the indices in your `DataFrame`, 3) for each index/row loop through the timeline, 4) create a temporary list, append the text for each timeline element to that list, then append the temporary list to 'tweets' 5) turn the list into a `DataFrame` and 6) merge the two `DataFrames` horizontally."
   ]
  },
  {
   "cell_type": "code",
   "execution_count": 10,
   "metadata": {},
   "outputs": [
    {
     "data": {
      "text/html": [
       "<div>\n",
       "<style scoped>\n",
       "    .dataframe tbody tr th:only-of-type {\n",
       "        vertical-align: middle;\n",
       "    }\n",
       "\n",
       "    .dataframe tbody tr th {\n",
       "        vertical-align: top;\n",
       "    }\n",
       "\n",
       "    .dataframe thead th {\n",
       "        text-align: right;\n",
       "    }\n",
       "</style>\n",
       "<table border=\"1\" class=\"dataframe\">\n",
       "  <thead>\n",
       "    <tr style=\"text-align: right;\">\n",
       "      <th></th>\n",
       "      <th>username</th>\n",
       "      <th>text</th>\n",
       "      <th>truncated?</th>\n",
       "      <th>date posted</th>\n",
       "      <th>follower count</th>\n",
       "      <th>timelines</th>\n",
       "      <th>tweets</th>\n",
       "      <th>tweets</th>\n",
       "    </tr>\n",
       "  </thead>\n",
       "  <tbody>\n",
       "    <tr>\n",
       "      <td>0</td>\n",
       "      <td>sweetiepiemommy</td>\n",
       "      <td>RT @therealjohnmayo: Bernie, we end ice raids....</td>\n",
       "      <td>False</td>\n",
       "      <td>Wed Mar 18 13:48:38 +0000 2020</td>\n",
       "      <td>2349</td>\n",
       "      <td>[Status(_api=&lt;tweepy.api.API object at 0x10e03...</td>\n",
       "      <td>[RT @therealjohnmayo: Bernie, we end ice raids...</td>\n",
       "      <td>[RT @therealjohnmayo: Bernie, we end ice raids...</td>\n",
       "    </tr>\n",
       "    <tr>\n",
       "      <td>1</td>\n",
       "      <td>CherKalleck</td>\n",
       "      <td>RT @robsfriedlander: .@JoeBiden helped lead th...</td>\n",
       "      <td>False</td>\n",
       "      <td>Wed Mar 18 13:48:36 +0000 2020</td>\n",
       "      <td>12260</td>\n",
       "      <td>[Status(_api=&lt;tweepy.api.API object at 0x10e03...</td>\n",
       "      <td>[RT @BaddCompani: Bernie wants to pay for ever...</td>\n",
       "      <td>[RT @BaddCompani: Bernie wants to pay for ever...</td>\n",
       "    </tr>\n",
       "    <tr>\n",
       "      <td>2</td>\n",
       "      <td>TNLM1821</td>\n",
       "      <td>RT @PsycTea: On the topic of Bernie &amp;amp; comm...</td>\n",
       "      <td>False</td>\n",
       "      <td>Wed Mar 18 13:48:17 +0000 2020</td>\n",
       "      <td>742</td>\n",
       "      <td>[Status(_api=&lt;tweepy.api.API object at 0x10e03...</td>\n",
       "      <td>[RT @DanielSOMeara: @Carlos_Jesus07 @briebriej...</td>\n",
       "      <td>[RT @DanielSOMeara: @Carlos_Jesus07 @briebriej...</td>\n",
       "    </tr>\n",
       "    <tr>\n",
       "      <td>3</td>\n",
       "      <td>cb4195</td>\n",
       "      <td>RT @GOPChairwoman: Reminder: While @realDonald...</td>\n",
       "      <td>False</td>\n",
       "      <td>Wed Mar 18 13:48:07 +0000 2020</td>\n",
       "      <td>193</td>\n",
       "      <td>[Status(_api=&lt;tweepy.api.API object at 0x10e03...</td>\n",
       "      <td>[RT @GOPChairwoman: Reminder: While @realDonal...</td>\n",
       "      <td>[RT @GOPChairwoman: Reminder: While @realDonal...</td>\n",
       "    </tr>\n",
       "    <tr>\n",
       "      <td>4</td>\n",
       "      <td>NickGuthman</td>\n",
       "      <td>RT @LeslieMarshall: New @Spreaker Podcast (3/1...</td>\n",
       "      <td>False</td>\n",
       "      <td>Wed Mar 18 13:48:06 +0000 2020</td>\n",
       "      <td>2202</td>\n",
       "      <td>[Status(_api=&lt;tweepy.api.API object at 0x10e03...</td>\n",
       "      <td>[RT @LeslieMarshall: New @Spreaker Podcast (3/...</td>\n",
       "      <td>[RT @LeslieMarshall: New @Spreaker Podcast (3/...</td>\n",
       "    </tr>\n",
       "    <tr>\n",
       "      <td>5</td>\n",
       "      <td>Isabel02297938</td>\n",
       "      <td>RT @BernieSanders: On day one we'll restore th...</td>\n",
       "      <td>False</td>\n",
       "      <td>Wed Mar 18 13:46:21 +0000 2020</td>\n",
       "      <td>0</td>\n",
       "      <td>[Status(_api=&lt;tweepy.api.API object at 0x10e03...</td>\n",
       "      <td>[RT @MuhammadLila: In Seville, Spain, resident...</td>\n",
       "      <td>[RT @MuhammadLila: In Seville, Spain, resident...</td>\n",
       "    </tr>\n",
       "    <tr>\n",
       "      <td>6</td>\n",
       "      <td>kachninja</td>\n",
       "      <td>RT @CalebJHull: THIS IS INSANE:\\n\\nModerator a...</td>\n",
       "      <td>False</td>\n",
       "      <td>Wed Mar 18 13:45:53 +0000 2020</td>\n",
       "      <td>12485</td>\n",
       "      <td>[Status(_api=&lt;tweepy.api.API object at 0x10e03...</td>\n",
       "      <td>[RT @sjens188: #SLC #Earthquake #Utah alarms g...</td>\n",
       "      <td>[RT @sjens188: #SLC #Earthquake #Utah alarms g...</td>\n",
       "    </tr>\n",
       "    <tr>\n",
       "      <td>7</td>\n",
       "      <td>DNApparition</td>\n",
       "      <td>RT @RBReich: I'm sick and tired of hearing tha...</td>\n",
       "      <td>False</td>\n",
       "      <td>Wed Mar 18 13:45:34 +0000 2020</td>\n",
       "      <td>104</td>\n",
       "      <td>[Status(_api=&lt;tweepy.api.API object at 0x10e03...</td>\n",
       "      <td>[RT @DissociaDID: Please share as many accurat...</td>\n",
       "      <td>[RT @DissociaDID: Please share as many accurat...</td>\n",
       "    </tr>\n",
       "    <tr>\n",
       "      <td>8</td>\n",
       "      <td>Howscib</td>\n",
       "      <td>RT @ThomasGaston: Biden's response of \"no\" had...</td>\n",
       "      <td>False</td>\n",
       "      <td>Wed Mar 18 13:44:43 +0000 2020</td>\n",
       "      <td>29</td>\n",
       "      <td>[Status(_api=&lt;tweepy.api.API object at 0x10e03...</td>\n",
       "      <td>[@USPoliticsPoll So far, most definitely., RT ...</td>\n",
       "      <td>[@USPoliticsPoll So far, most definitely., RT ...</td>\n",
       "    </tr>\n",
       "    <tr>\n",
       "      <td>9</td>\n",
       "      <td>_ZayBanks</td>\n",
       "      <td>RT @PsycTea: On the topic of Bernie &amp;amp; comm...</td>\n",
       "      <td>False</td>\n",
       "      <td>Wed Mar 18 13:44:32 +0000 2020</td>\n",
       "      <td>462</td>\n",
       "      <td>[Status(_api=&lt;tweepy.api.API object at 0x10e03...</td>\n",
       "      <td>[RT @briebriejoy: Biden’s campaign has lied re...</td>\n",
       "      <td>[RT @briebriejoy: Biden’s campaign has lied re...</td>\n",
       "    </tr>\n",
       "    <tr>\n",
       "      <td>10</td>\n",
       "      <td>newhandle14</td>\n",
       "      <td>RT @chrissyomari: I just started watching thr ...</td>\n",
       "      <td>False</td>\n",
       "      <td>Wed Mar 18 13:43:36 +0000 2020</td>\n",
       "      <td>12</td>\n",
       "      <td>[Status(_api=&lt;tweepy.api.API object at 0x10e03...</td>\n",
       "      <td>[RT @EllenWedge: i’m so confused as to why the...</td>\n",
       "      <td>[RT @EllenWedge: i’m so confused as to why the...</td>\n",
       "    </tr>\n",
       "    <tr>\n",
       "      <td>11</td>\n",
       "      <td>azadeh_rohani</td>\n",
       "      <td>RT @BernieSanders: I voted against the Defense...</td>\n",
       "      <td>False</td>\n",
       "      <td>Wed Mar 18 13:42:26 +0000 2020</td>\n",
       "      <td>9</td>\n",
       "      <td>[Status(_api=&lt;tweepy.api.API object at 0x10e03...</td>\n",
       "      <td>[RT @DocDre: My brother got laid off yesterday...</td>\n",
       "      <td>[RT @DocDre: My brother got laid off yesterday...</td>\n",
       "    </tr>\n",
       "    <tr>\n",
       "      <td>12</td>\n",
       "      <td>brendakflower</td>\n",
       "      <td>RT @GOPChairwoman: During the #DemDebate, Joe ...</td>\n",
       "      <td>False</td>\n",
       "      <td>Wed Mar 18 13:42:03 +0000 2020</td>\n",
       "      <td>926</td>\n",
       "      <td>[Status(_api=&lt;tweepy.api.API object at 0x10e03...</td>\n",
       "      <td>[RT @SecretarySonny: America’s farmers, ranche...</td>\n",
       "      <td>[RT @SecretarySonny: America’s farmers, ranche...</td>\n",
       "    </tr>\n",
       "    <tr>\n",
       "      <td>13</td>\n",
       "      <td>The_Asia_Phile</td>\n",
       "      <td>Like him or Hate him, 1 thing should be SUPER ...</td>\n",
       "      <td>True</td>\n",
       "      <td>Wed Mar 18 13:42:00 +0000 2020</td>\n",
       "      <td>377</td>\n",
       "      <td>[Status(_api=&lt;tweepy.api.API object at 0x10e03...</td>\n",
       "      <td>[Everyone is focused on #BernieSanders shreddi...</td>\n",
       "      <td>[Everyone is focused on #BernieSanders shreddi...</td>\n",
       "    </tr>\n",
       "    <tr>\n",
       "      <td>14</td>\n",
       "      <td>sondramtodd</td>\n",
       "      <td>RT @GOPChairwoman: During the #DemDebate, Joe ...</td>\n",
       "      <td>False</td>\n",
       "      <td>Wed Mar 18 13:41:23 +0000 2020</td>\n",
       "      <td>264</td>\n",
       "      <td>[Status(_api=&lt;tweepy.api.API object at 0x10e03...</td>\n",
       "      <td>[RT @GOPChairwoman: During the #DemDebate, Joe...</td>\n",
       "      <td>[RT @GOPChairwoman: During the #DemDebate, Joe...</td>\n",
       "    </tr>\n",
       "  </tbody>\n",
       "</table>\n",
       "</div>"
      ],
      "text/plain": [
       "           username                                               text  \\\n",
       "0   sweetiepiemommy  RT @therealjohnmayo: Bernie, we end ice raids....   \n",
       "1       CherKalleck  RT @robsfriedlander: .@JoeBiden helped lead th...   \n",
       "2          TNLM1821  RT @PsycTea: On the topic of Bernie &amp; comm...   \n",
       "3            cb4195  RT @GOPChairwoman: Reminder: While @realDonald...   \n",
       "4       NickGuthman  RT @LeslieMarshall: New @Spreaker Podcast (3/1...   \n",
       "5    Isabel02297938  RT @BernieSanders: On day one we'll restore th...   \n",
       "6         kachninja  RT @CalebJHull: THIS IS INSANE:\\n\\nModerator a...   \n",
       "7      DNApparition  RT @RBReich: I'm sick and tired of hearing tha...   \n",
       "8           Howscib  RT @ThomasGaston: Biden's response of \"no\" had...   \n",
       "9         _ZayBanks  RT @PsycTea: On the topic of Bernie &amp; comm...   \n",
       "10      newhandle14  RT @chrissyomari: I just started watching thr ...   \n",
       "11    azadeh_rohani  RT @BernieSanders: I voted against the Defense...   \n",
       "12    brendakflower  RT @GOPChairwoman: During the #DemDebate, Joe ...   \n",
       "13   The_Asia_Phile  Like him or Hate him, 1 thing should be SUPER ...   \n",
       "14      sondramtodd  RT @GOPChairwoman: During the #DemDebate, Joe ...   \n",
       "\n",
       "    truncated?                     date posted  follower count  \\\n",
       "0        False  Wed Mar 18 13:48:38 +0000 2020            2349   \n",
       "1        False  Wed Mar 18 13:48:36 +0000 2020           12260   \n",
       "2        False  Wed Mar 18 13:48:17 +0000 2020             742   \n",
       "3        False  Wed Mar 18 13:48:07 +0000 2020             193   \n",
       "4        False  Wed Mar 18 13:48:06 +0000 2020            2202   \n",
       "5        False  Wed Mar 18 13:46:21 +0000 2020               0   \n",
       "6        False  Wed Mar 18 13:45:53 +0000 2020           12485   \n",
       "7        False  Wed Mar 18 13:45:34 +0000 2020             104   \n",
       "8        False  Wed Mar 18 13:44:43 +0000 2020              29   \n",
       "9        False  Wed Mar 18 13:44:32 +0000 2020             462   \n",
       "10       False  Wed Mar 18 13:43:36 +0000 2020              12   \n",
       "11       False  Wed Mar 18 13:42:26 +0000 2020               9   \n",
       "12       False  Wed Mar 18 13:42:03 +0000 2020             926   \n",
       "13        True  Wed Mar 18 13:42:00 +0000 2020             377   \n",
       "14       False  Wed Mar 18 13:41:23 +0000 2020             264   \n",
       "\n",
       "                                            timelines  \\\n",
       "0   [Status(_api=<tweepy.api.API object at 0x10e03...   \n",
       "1   [Status(_api=<tweepy.api.API object at 0x10e03...   \n",
       "2   [Status(_api=<tweepy.api.API object at 0x10e03...   \n",
       "3   [Status(_api=<tweepy.api.API object at 0x10e03...   \n",
       "4   [Status(_api=<tweepy.api.API object at 0x10e03...   \n",
       "5   [Status(_api=<tweepy.api.API object at 0x10e03...   \n",
       "6   [Status(_api=<tweepy.api.API object at 0x10e03...   \n",
       "7   [Status(_api=<tweepy.api.API object at 0x10e03...   \n",
       "8   [Status(_api=<tweepy.api.API object at 0x10e03...   \n",
       "9   [Status(_api=<tweepy.api.API object at 0x10e03...   \n",
       "10  [Status(_api=<tweepy.api.API object at 0x10e03...   \n",
       "11  [Status(_api=<tweepy.api.API object at 0x10e03...   \n",
       "12  [Status(_api=<tweepy.api.API object at 0x10e03...   \n",
       "13  [Status(_api=<tweepy.api.API object at 0x10e03...   \n",
       "14  [Status(_api=<tweepy.api.API object at 0x10e03...   \n",
       "\n",
       "                                               tweets  \\\n",
       "0   [RT @therealjohnmayo: Bernie, we end ice raids...   \n",
       "1   [RT @BaddCompani: Bernie wants to pay for ever...   \n",
       "2   [RT @DanielSOMeara: @Carlos_Jesus07 @briebriej...   \n",
       "3   [RT @GOPChairwoman: Reminder: While @realDonal...   \n",
       "4   [RT @LeslieMarshall: New @Spreaker Podcast (3/...   \n",
       "5   [RT @MuhammadLila: In Seville, Spain, resident...   \n",
       "6   [RT @sjens188: #SLC #Earthquake #Utah alarms g...   \n",
       "7   [RT @DissociaDID: Please share as many accurat...   \n",
       "8   [@USPoliticsPoll So far, most definitely., RT ...   \n",
       "9   [RT @briebriejoy: Biden’s campaign has lied re...   \n",
       "10  [RT @EllenWedge: i’m so confused as to why the...   \n",
       "11  [RT @DocDre: My brother got laid off yesterday...   \n",
       "12  [RT @SecretarySonny: America’s farmers, ranche...   \n",
       "13  [Everyone is focused on #BernieSanders shreddi...   \n",
       "14  [RT @GOPChairwoman: During the #DemDebate, Joe...   \n",
       "\n",
       "                                               tweets  \n",
       "0   [RT @therealjohnmayo: Bernie, we end ice raids...  \n",
       "1   [RT @BaddCompani: Bernie wants to pay for ever...  \n",
       "2   [RT @DanielSOMeara: @Carlos_Jesus07 @briebriej...  \n",
       "3   [RT @GOPChairwoman: Reminder: While @realDonal...  \n",
       "4   [RT @LeslieMarshall: New @Spreaker Podcast (3/...  \n",
       "5   [RT @MuhammadLila: In Seville, Spain, resident...  \n",
       "6   [RT @sjens188: #SLC #Earthquake #Utah alarms g...  \n",
       "7   [RT @DissociaDID: Please share as many accurat...  \n",
       "8   [@USPoliticsPoll So far, most definitely., RT ...  \n",
       "9   [RT @briebriejoy: Biden’s campaign has lied re...  \n",
       "10  [RT @EllenWedge: i’m so confused as to why the...  \n",
       "11  [RT @DocDre: My brother got laid off yesterday...  \n",
       "12  [RT @SecretarySonny: America’s farmers, ranche...  \n",
       "13  [Everyone is focused on #BernieSanders shreddi...  \n",
       "14  [RT @GOPChairwoman: During the #DemDebate, Joe...  "
      ]
     },
     "execution_count": 10,
     "metadata": {},
     "output_type": "execute_result"
    }
   ],
   "source": [
    "\n",
    "timeline_tweets=[]\n",
    "\n",
    "for i in demdeb_mar_tl.index:\n",
    "    tweets_no = len(demdeb_mar_tl.timelines[i])\n",
    "    temp = []\n",
    "    for n in range(0,tweets_no):\n",
    "        temp.append(demdeb_mar_tl.timelines[i][n]._json[\"text\"])\n",
    "\n",
    "    timeline_tweets.append(temp)\n",
    "\n",
    "tl_tweets = pd.DataFrame({\"tweets\":timeline_tweets})\n",
    "\n",
    "demdeb_mar_tl = pd.concat([demdeb_mar_tl, tl_tweets], axis=1)\n"
   ]
  },
  {
   "cell_type": "markdown",
   "metadata": {},
   "source": [
    "**Exercise 6. Turning our list of tweet texts into a long string.** To get a sense of what our accounts usually tweet about, it might be useful to have their tweets in one long string that allows us to easily count the words they use. Create a list that holds the long string of tweets for each user. We can concatenate our list of tweets/strings using the [join](https://docs.python.org/2/library/string.html#string.join) command for which you can find a usage example [here](https://stackoverflow.com/a/493842).\n",
    "\n",
    "Turn the list into a `DataFrame` and merge it with your main `DataFrame` horizontally. "
   ]
  },
  {
   "cell_type": "code",
   "execution_count": 22,
   "metadata": {},
   "outputs": [
    {
     "name": "stderr",
     "output_type": "stream",
     "text": [
      "IOPub data rate exceeded.\n",
      "The notebook server will temporarily stop sending output\n",
      "to the client in order to avoid crashing it.\n",
      "To change this limit, set the config variable\n",
      "`--NotebookApp.iopub_data_rate_limit`.\n",
      "\n",
      "Current values:\n",
      "NotebookApp.iopub_data_rate_limit=1000000.0 (bytes/sec)\n",
      "NotebookApp.rate_limit_window=3.0 (secs)\n",
      "\n"
     ]
    }
   ],
   "source": [
    "text=[]\n",
    "\n"
   ]
  },
  {
   "cell_type": "markdown",
   "metadata": {},
   "source": [
    "**Exercise 7. Finding hashtags and mentions.** Now that we have all the tweets for each account in one long string, we can start looking at the topics the accounts are tweeting about and who they are interacting with. To do so, you can use the [`findall`](https://docs.python.org/3/library/re.html#re.findall) function from the `re` package to extract all hashtags (starting with a \"#\") and mentions (starting with an \"@\"). Add one column for hashtags and mentions respectively to your `DataFrame`."
   ]
  },
  {
   "cell_type": "markdown",
   "metadata": {},
   "source": [
    "**Exercise 8. Writing your insights to a file.** You have just generated some really awesome insights about the accounts you identified earlier. To share your insights, that is the topics/hashtags your accounts tweet about, you should now write the hashtags to a text file–if you want to remind yourself, we covered this in week 3 day 1. Can you make it so the text file first lists the name and then the hashtags the account uses?"
   ]
  },
  {
   "cell_type": "markdown",
   "metadata": {},
   "source": [
    "**Exercise 9. Descriptive statistics about your accounts.** We closed last week with talking about descriptive statistics. For the accounts you gathered, there are at least three variables that you might be interested to know more about. What are the minimum, maximum, and mean for the number of followers, friends, and posted statuses in you data?"
   ]
  },
  {
   "cell_type": "markdown",
   "metadata": {},
   "source": [
    "**Exercise 10. Visualizing influence.** To round off this exercise, let's plot some data from the accounts you collected. Make a bar plot to show which of the accounts has the most influence on Twitter. _Hint:_ You might want to look at `followers_count`."
   ]
  },
  {
   "cell_type": "markdown",
   "metadata": {},
   "source": [
    "**Exercise 11. Understanding influence.** Now that you know who is most influential among your accounts, try to see if the data you get from Twitter allows you to explore what might explain that influence. Look into your data and plot the follower count against another variable. Is there a pattern?"
   ]
  },
  {
   "cell_type": "markdown",
   "metadata": {},
   "source": [
    "**THERE IS ALWAYS MORE.** If you got all the way through this exercise and are still hungry for more, here are some suggestions for other things you could do:\n",
    "\n",
    "1. To get an even better sense of what your accounts tweet about than just using hashtags, you could count the most used words. Create a list that, for each account has a dictionary of the frequency of each word with stop words removed. Remember, you can reuse your code from W3D1. You can get a list of stop words from [here](http://ir.dcs.gla.ac.uk/resources/linguistic_utils/stop_words). These are also stored in `stop_words.txt`. Add a column to your dataframe for most used words. \n",
    "2. Extract the number of favorites and retweets from the timelines you gathered. Is there any relationship between the number of followers and these figures? How about between these figures and the number of friends?\n",
    "3. Researchers often use Twitter because we can do respondent-driven sampling, i.e. we start with a few accounts and then collect the accounts that follow these accounts to get a broader picture of the network. Start exploring the networks of the accounts you collected using the [`followers`](https://tweepy.readthedocs.io/en/latest/api.html#API.followers) command.\n",
    "4. Given that the accounts you collected are similar in that they tweet about your topic of choice, it might be interesting know if there are issues that distinguish the accounts. Researchers often use term frequency-inverse document frequency to study such differences. [Here](https://www.freecodecamp.org/news/how-to-process-textual-data-using-tf-idf-in-python-cd2bbc0a94a3/) is a primer on the concept and a tutorial on how to implement it in Python. Can you find distinguishes your accounts from one another?"
   ]
  }
 ],
 "metadata": {
  "kernelspec": {
   "display_name": "Python 3",
   "language": "python",
   "name": "python3"
  },
  "language_info": {
   "codemirror_mode": {
    "name": "ipython",
    "version": 3
   },
   "file_extension": ".py",
   "mimetype": "text/x-python",
   "name": "python",
   "nbconvert_exporter": "python",
   "pygments_lexer": "ipython3",
   "version": "3.7.4"
  }
 },
 "nbformat": 4,
 "nbformat_minor": 2
}
